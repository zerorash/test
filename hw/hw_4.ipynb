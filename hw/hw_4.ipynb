{
 "cells": [
  {
   "cell_type": "code",
   "execution_count": 6,
   "metadata": {},
   "outputs": [
    {
     "name": "stdout",
     "output_type": "stream",
     "text": [
      "Введите номер документа: 11-2\n",
      "Геннадий Покемонов\n"
     ]
    }
   ],
   "source": [
    "#Пункт 1. Пользователь по команде \"p\" может узнать владельца документа по его номеру\n",
    "\n",
    "documents = [\n",
    "    {'type': 'passport', 'number': '2207 876234', 'name': 'Василий Гупкин'},\n",
    "    {'type': 'invoice', 'number': '11-2', 'name': 'Геннадий Покемонов'},\n",
    "    {'type': 'insurance', 'number': '10006', 'name': 'Аристарх Павлов'}\n",
    "]\n",
    "\n",
    "def p(documnet_number):\n",
    "    for x in documents:\n",
    "        if x['number'] == documnet_number:\n",
    "            return x['name']\n",
    "    return \"Документ не найден в базе\"    \n",
    "document_number = input(\"Введите номер документа: \")\n",
    "print(p(document_number))"
   ]
  },
  {
   "cell_type": "code",
   "execution_count": 75,
   "metadata": {},
   "outputs": [
    {
     "name": "stdout",
     "output_type": "stream",
     "text": [
      "Введите номер документа: 11-2\n",
      "1\n"
     ]
    }
   ],
   "source": [
    "#Пункт 2. Пользователь по команде \"s\" может по номеру документа узнать на какой полке он хранится\n",
    "\n",
    "directories = {\n",
    "    '1': ['2207 876234', '11-2', '5455 028765'],\n",
    "    '2': ['10006', '5400 028765', '5455 002299'],\n",
    "    '3': []\n",
    "}\n",
    "\n",
    "def s(document_number):\n",
    "    for r in directories:\n",
    "        if document_number in directories[r]:\n",
    "            return r\n",
    "    return \"Документ не найден в базе\"\n",
    "\n",
    "document_number = input(\"Введите номер документа: \")\n",
    "print(s(document_number))"
   ]
  },
  {
   "cell_type": "code",
   "execution_count": 19,
   "metadata": {},
   "outputs": [
    {
     "name": "stdout",
     "output_type": "stream",
     "text": [
      "№: 2207 876234, тип: passport, владелец: Василий Гупкин полка1\n",
      "№: 11-2, тип: invoice, владелец: Геннадий Покемонов полка1\n",
      "№: 10006, тип: insurance, владелец: Аристарх Павлов полка2\n"
     ]
    }
   ],
   "source": [
    "#Пункт 3. Пользователь по команде \"l\" может увидеть полную информацию по всем документам\n",
    "\n",
    "#добавим функцию для получения ключа по значениям\n",
    "def get_key(directories, value):\n",
    "    for k, v in directories.items():\n",
    "        if value in v:\n",
    "            return k\n",
    "\n",
    "def l():\n",
    "    for c in documents:\n",
    "        doc_type = c['type']\n",
    "        number = c['number']\n",
    "        name = c['name']\n",
    "        print('№: {1}, тип: {0}, владелец: {2} полка{3}'.format(doc_type, number, name, get_key(directories,number)))\n",
    "        \n",
    "l()"
   ]
  },
  {
   "cell_type": "code",
   "execution_count": 23,
   "metadata": {},
   "outputs": [
    {
     "name": "stdout",
     "output_type": "stream",
     "text": [
      "Введите номер полки: 1\n",
      "Такая полка уже существует. Текущий перечень полок: ['1', '2', '3', '5']\n"
     ]
    }
   ],
   "source": [
    "#Пункт 4. Пользователь по команде \"ads\" может добавить новую полку\n",
    "\n",
    "def ads():\n",
    "    shelf = input(\"Введите номер полки: \")\n",
    "    for direct in directories.items():\n",
    "        if shelf in direct[0]:\n",
    "            print(f\"Такая полка уже существует. Текущий перечень полок: {list(directories.keys())}\")\n",
    "            break\n",
    "    else:\n",
    "        directories[shelf] = []\n",
    "        print(f\"Полка добавлена. Текущий перечень полок: {list(directories.keys())}\")\n",
    "     \n",
    "ads()\n",
    "    "
   ]
  },
  {
   "cell_type": "code",
   "execution_count": 72,
   "metadata": {},
   "outputs": [
    {
     "name": "stdout",
     "output_type": "stream",
     "text": [
      "Введите номер полки: 6\n",
      "Такой полки не существует. Текущий перечень полок:1, 2, 3, 5\n"
     ]
    }
   ],
   "source": [
    "#Пункт 5. Пользователь по команде \"ds\" может удалить существующую полку из данных (только если она пустая)\n",
    "def del_ds():   \n",
    "    shelf = input(\"Введите номер полки: \")\n",
    "    if shelf not in directories:\n",
    "        print('Такой полки не существует. Текущий перечень полок:' + ', '.join(directories.keys()))\n",
    "    else:\n",
    "        if shelf in directories:\n",
    "            print (\"На полке есть документы, удалите их перед удалением полки. Текущий перечень полок: \", list(directories.keys()))\n",
    "        else: \n",
    "            del(directories[shelf])\n",
    "            print (\"Полка удалена. Текущий перечень полок:\", list(directories.keys())) \n",
    "        return\n",
    "    \n",
    "del_ds()"
   ]
  },
  {
   "cell_type": "code",
   "execution_count": 78,
   "metadata": {},
   "outputs": [
    {
     "name": "stdout",
     "output_type": "stream",
     "text": [
      "Введите командуs\n",
      "Введите номер документа: 11-2\n",
      "1\n",
      "Введите командуl\n",
      "№: 2207 876234, тип: passport, владелец: Василий Гупкин полка1\n",
      "№: 11-2, тип: invoice, владелец: Геннадий Покемонов полка1\n",
      "№: 10006, тип: insurance, владелец: Аристарх Павлов полка2\n",
      "None\n",
      "Введите командуads\n",
      "Введите номер полки: 7\n",
      "Введите номер полки: q\n",
      "Полка добавлена. Текущий перечень полок: ['1', '2', '3', 'q']\n",
      "None\n",
      "Введите командуq\n"
     ]
    }
   ],
   "source": [
    "def main(documents, directories):\n",
    "    while True:\n",
    "        user_input = input('Введите команду')\n",
    "        if user_input == 'p':\n",
    "            number = input(\"Введите номер документа: \")\n",
    "            print(p(document_number))\n",
    "        elif user_input == 's':\n",
    "            number = input(\"Введите номер документа: \")\n",
    "            print(s(document_number))\n",
    "        elif user_input == 'l':\n",
    "            print(l())\n",
    "        elif  user_input == 'ads':\n",
    "            number = input(\"Введите номер полки: \")\n",
    "            print(ads())\n",
    "        elif user_input == 'ds':\n",
    "            number = input(\"Введите номер полки: \")\n",
    "            print(del_ds())\n",
    "        elif user_input == 'q':\n",
    "            break\n",
    " \n",
    "            \n",
    "main(documents, directories)"
   ]
  },
  {
   "cell_type": "code",
   "execution_count": null,
   "metadata": {},
   "outputs": [],
   "source": []
  }
 ],
 "metadata": {
  "kernelspec": {
   "display_name": "Python 3",
   "language": "python",
   "name": "python3"
  },
  "language_info": {
   "codemirror_mode": {
    "name": "ipython",
    "version": 3
   },
   "file_extension": ".py",
   "mimetype": "text/x-python",
   "name": "python",
   "nbconvert_exporter": "python",
   "pygments_lexer": "ipython3",
   "version": "3.8.5"
  }
 },
 "nbformat": 4,
 "nbformat_minor": 4
}
