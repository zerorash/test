{
 "cells": [
  {
   "cell_type": "code",
   "execution_count": 9,
   "metadata": {},
   "outputs": [
    {
     "name": "stdout",
     "output_type": "stream",
     "text": [
      "Фраза 1 длиннее фразы 2\n"
     ]
    }
   ],
   "source": [
    "#задание 1\n",
    "\n",
    "phrase_1 = 'Насколько проще было бы писать программы, если бы не заказчики'\n",
    "phrase_2 = '640Кб должно хватить для любых задач. Билл Гейтс (по легенде)'\n",
    "\n",
    "if len(phrase_1) > len(phrase_2):\n",
    "    print(\"Фраза 1 длиннее фразы 2\")\n",
    "elif len(phrase_1) < len(phrase_2): \n",
    "    print(\"Фраза 2 длиннее фразы 1\")\n",
    "else: \n",
    "    print(\"Фразы равной длины\")"
   ]
  },
  {
   "cell_type": "code",
   "execution_count": 10,
   "metadata": {},
   "outputs": [
    {
     "name": "stdout",
     "output_type": "stream",
     "text": [
      "2019\n",
      "Обычный год\n"
     ]
    }
   ],
   "source": [
    "#Задание 2\n",
    "\n",
    "year = int(input())\n",
    "if (year % 4 == 0) and (year % 100 != 0) or (year % 400 == 0):\n",
    "    print('Високосный год')\n",
    "else:\n",
    "    print('Обычный год')"
   ]
  },
  {
   "cell_type": "code",
   "execution_count": 13,
   "metadata": {},
   "outputs": [
    {
     "name": "stdout",
     "output_type": "stream",
     "text": [
      "Введите день:13\n",
      "Введите месяц:12\n",
      "Знак зодиака:Стрелец\n"
     ]
    }
   ],
   "source": [
    "#Задание 3\n",
    "\n",
    "date=int(input(\"Введите день:\"))\n",
    "month=int(input(\"Введите месяц:\"))\n",
    "\n",
    "if (date>=21 and date<=31 and month==3) or( month==4 and date>=1 and date<=19):\n",
    "   print(\"Знак зодиака:Овен\")\n",
    "\n",
    "elif (date>=20 and date<=30 and month==4) or( month==5 and date>=1 and date<=20):\n",
    "   print(\"Знак зодиака:Телец\")\n",
    "\n",
    "elif (date>=21 and date<=31 and month==5) or( month==6 and date>=1 and date<=21):\n",
    "   print(\"Знак зодиака:Близнецы\")\n",
    "\n",
    "elif (date>=22 and date<=30 and month==6) or( month==7 and date>=1 and date<=22):\n",
    "   print(\"Знак зодиака:Рак\")\n",
    "\n",
    "elif (date>=23 and date<=31 and month==7) or( month==8 and date>=1 and date<=22):\n",
    "   print(\"Знак зодиака:Лев\")\n",
    "\n",
    "elif (date>=23 and date<=31 and month==8) or( month==9 and date>=1 and date<=22):\n",
    "   print(\"Знак зодиака:Дева\")\n",
    "\n",
    "elif (date>=23 and date<=30 and month==9) or( month==10 and date>=1 and date<=23):\n",
    "   print(\"Знак зодиака:Весы\")\n",
    "\n",
    "elif (date>=24 and date<=31 and month==10) or( month==11 and date>=1 and date<=22):\n",
    "   print(\"Знак зодиака:Скорпион\")\n",
    "\n",
    "elif (date>=23 and date<=30 and month==11) or( month==12 and date>=1 and date<=21):\n",
    "   print(\"Знак зодиака:Стрелец\")\n",
    "\n",
    "elif (date>=22 and date<=31 and month==12) or( month==1 and date>=1 and date<=20):\n",
    "   print(\"Знак зодиака:Козерог\")\n",
    "\n",
    "elif (date>=21 and date<=31 and month==1) or( month==2 and date>=1 and date<=18):\n",
    "   print(\"Знак зодиака:Водолей\")\n",
    "\n",
    "elif (date>=19 and date<=29 and month==2) or( month==3 and date>=1 and date<=20):\n",
    "   print(\"Знак зодиака:Рыбы\")"
   ]
  },
  {
   "cell_type": "code",
   "execution_count": 15,
   "metadata": {},
   "outputs": [
    {
     "name": "stdout",
     "output_type": "stream",
     "text": [
      "Введите  ширину в см: 10\n",
      "Введите  длину в см: 12\n",
      "Введите  высоту в см: 10\n",
      "Коробка№1\n"
     ]
    }
   ],
   "source": [
    "#Задание 4\n",
    "\n",
    "a = input('Введите  ширину в см: ')\n",
    "b = input('Введите  длину в см: ')\n",
    "c = input('Введите  высоту в см: ')\n",
    "while True:\n",
    "    if (a.isnumeric() and b.isnumeric() and c.isnumeric()):\n",
    "        a = int(a)\n",
    "        b = int(b)\n",
    "        c = int(c)\n",
    "        break\n",
    "    else:\n",
    "        print('Вводить можно только числа')\n",
    "        a = input('Введите  ширину в см: ')\n",
    "        b = input('Введите  длину в см: ')\n",
    "        с = input('Введите  высоту в см: ')\n",
    "    \n",
    "if (a > 200 or b > 200 or c > 200):\n",
    "    print('Упаковка для лыж')\n",
    "elif (a <= 15 and b <= 15 and c <= 15):\n",
    "    print('Коробка№1')\n",
    "elif (15 < a <= 50 or 15 < b <= 50  or 15 < c <= 50):\n",
    "    print('Коробка№2')\n",
    "else:\n",
    "    print('Стандартная коробка №3')"
   ]
  },
  {
   "cell_type": "code",
   "execution_count": 22,
   "metadata": {},
   "outputs": [
    {
     "name": "stdout",
     "output_type": "stream",
     "text": [
      "Введите номер билета из 6 цифр: 123456\n",
      "Несчастливый билет\n"
     ]
    }
   ],
   "source": [
    "#Задание 5\n",
    "tiket = input(\"Введите номер билета из 6 цифр: \")\n",
    "numbers = list(tiket)\n",
    "numbers = [int(i) for i in numbers]\n",
    "if (sum(numbers[:3]) == sum(numbers[3:])):\n",
    "    print(\"Счастливый билет\")\n",
    "else:\n",
    "    print(\"Несчастливый билет\")"
   ]
  },
  {
   "cell_type": "code",
   "execution_count": null,
   "metadata": {},
   "outputs": [],
   "source": []
  }
 ],
 "metadata": {
  "kernelspec": {
   "display_name": "Python 3",
   "language": "python",
   "name": "python3"
  },
  "language_info": {
   "codemirror_mode": {
    "name": "ipython",
    "version": 3
   },
   "file_extension": ".py",
   "mimetype": "text/x-python",
   "name": "python",
   "nbconvert_exporter": "python",
   "pygments_lexer": "ipython3",
   "version": "3.8.5"
  }
 },
 "nbformat": 4,
 "nbformat_minor": 4
}
